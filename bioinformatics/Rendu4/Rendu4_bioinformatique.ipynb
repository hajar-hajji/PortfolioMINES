{
 "cells": [
  {
   "cell_type": "markdown",
   "id": "61339dab",
   "metadata": {},
   "source": [
    "**Bioinformatique : Rendu_4** <Br>\n",
    "Hajar Hajji"
   ]
  },
  {
   "cell_type": "markdown",
   "id": "d24abb65",
   "metadata": {},
   "source": [
    "## Alignement selon l'algorithme de Needleman et Wunsch"
   ]
  },
  {
   "cell_type": "markdown",
   "id": "cbbf5e1d",
   "metadata": {},
   "source": [
    "### Premier essai"
   ]
  },
  {
   "cell_type": "code",
   "execution_count": 103,
   "id": "430338e5",
   "metadata": {},
   "outputs": [
    {
     "data": {
      "text/plain": [
       "[[0, 2, 4, 6, 8, 10, 12, 14, 16],\n",
       " [2, '', '', '', '', '', '', '', ''],\n",
       " [4, '', '', '', '', '', '', '', ''],\n",
       " [6, '', '', '', '', '', '', '', ''],\n",
       " [8, '', '', '', '', '', '', '', ''],\n",
       " [10, '', '', '', '', '', '', '', ''],\n",
       " [12, '', '', '', '', '', '', '', ''],\n",
       " [14, '', '', '', '', '', '', '', ''],\n",
       " [16, '', '', '', '', '', '', '', ''],\n",
       " [18, '', '', '', '', '', '', '', '']]"
      ]
     },
     "execution_count": 103,
     "metadata": {},
     "output_type": "execute_result"
    }
   ],
   "source": [
    "seq1=\"ATGCATTTT\"\n",
    "seq2=\"ACTGCATT\"\n",
    "\n",
    "###### ---- Matrice initiale ---- ###############\n",
    "\n",
    "M=[[\"\" for j in range(len(seq2)+1)] for i in range(len(seq1)+1)]\n",
    "\n",
    "gap=2\n",
    "\n",
    "for i in range(len(M)):\n",
    "    M[i][0] =i * gap\n",
    "\n",
    "for j in range(len(M[0])):\n",
    "    M[0][j] =j * gap\n",
    "\n",
    "M"
   ]
  },
  {
   "cell_type": "code",
   "execution_count": 104,
   "id": "123b0c10",
   "metadata": {},
   "outputs": [
    {
     "data": {
      "text/plain": [
       "[[0, 2, 4, 6, 8, 10, 12, 14, 16],\n",
       " [2, 0, 2, 4, 6, 8, 10, 12, 14],\n",
       " [4, 2, 1, 2, 4, 6, 8, 10, 12],\n",
       " [6, 4, 3, 2, 2, 4, 6, 8, 10],\n",
       " [8, 6, 4, 4, 3, 2, 4, 6, 8],\n",
       " [10, 8, 6, 5, 5, 4, 2, 4, 6],\n",
       " [12, 10, 8, 6, 6, 6, 4, 2, 4],\n",
       " [14, 12, 10, 8, 7, 7, 6, 4, 2],\n",
       " [16, 14, 12, 10, 9, 8, 8, 6, 4],\n",
       " [18, 16, 14, 12, 11, 10, 9, 8, 6]]"
      ]
     },
     "execution_count": 104,
     "metadata": {},
     "output_type": "execute_result"
    }
   ],
   "source": [
    "###### ---- Calcul distances ---- ###############\n",
    "\n",
    "\"\"\"\n",
    "• Score d’un match = 0\n",
    "• Score d’un mismatch = 1\n",
    "• Score d’un gap = 2\n",
    "\"\"\"\n",
    "\n",
    "match=0\n",
    "mismatch=1\n",
    "\n",
    "for i in range(1,len(M)):\n",
    "    for j in range(1,len(M[0])):\n",
    "        \n",
    "        gauche=M[i][j-1]+gap\n",
    "        diag=M[i-1][j-1]+match if seq1[i-1]==seq2[j-1] else M[i-1][j-1]+mismatch\n",
    "        haut=M[i-1][j]+gap\n",
    "        \n",
    "        distance=min(gauche,haut,diag)\n",
    "        M[i][j]=distance\n",
    "    \n",
    "M"
   ]
  },
  {
   "cell_type": "code",
   "execution_count": 105,
   "id": "43243114",
   "metadata": {},
   "outputs": [
    {
     "name": "stdout",
     "output_type": "stream",
     "text": [
      "       A  C  T  G  C  A  T  T\n",
      "    0  2  4  6  8 10 12 14 16\n",
      " A  2  0  2  4  6  8 10 12 14\n",
      " T  4  2  1  2  4  6  8 10 12\n",
      " G  6  4  3  2  2  4  6  8 10\n",
      " C  8  6  4  4  3  2  4  6  8\n",
      " A 10  8  6  5  5  4  2  4  6\n",
      " T 12 10  8  6  6  6  4  2  4\n",
      " T 14 12 10  8  7  7  6  4  2\n",
      " T 16 14 12 10  9  8  8  6  4\n",
      " T 18 16 14 12 11 10  9  8  6\n"
     ]
    }
   ],
   "source": [
    "#insérer les séquences dans la matrice\n",
    "M.insert(0,2*[\"\"]+[ch for ch in seq2])\n",
    "M[1].insert(0,\"\")\n",
    "for ligne,l in zip(M[2:],seq1):\n",
    "    ligne.insert(0,l)\n",
    "\n",
    "#affichage\n",
    "for ligne in M:\n",
    "    print(\" \".join(\"%2s\" % ch for ch in ligne))"
   ]
  },
  {
   "cell_type": "markdown",
   "id": "6e0b5395",
   "metadata": {},
   "source": [
    "### Algorithme  Needleman et Wunsch"
   ]
  },
  {
   "cell_type": "code",
   "execution_count": 106,
   "id": "dfad82bb",
   "metadata": {},
   "outputs": [],
   "source": [
    "def NW(seq1,seq2,score_match,score_mismatch,gap):\n",
    "    \"\"\"\n",
    "    Une fonction permettant de calculer la matrice de distances : elle prendra en argument les deux\n",
    "    séquences à aligner et les paramètres de l’algorithme et retournera la matrice\n",
    "    \"\"\"\n",
    "\n",
    "    ###### ---- Matrice initiale ---- ###############\n",
    "\n",
    "    M=[[\"\" for j in range(len(seq2)+1)] for i in range(len(seq1)+1)]\n",
    "\n",
    "    for i in range(len(M)):\n",
    "        M[i][0] =i * gap\n",
    "\n",
    "    for j in range(len(M[0])):\n",
    "        M[0][j] =j * gap\n",
    "        \n",
    "        \n",
    "    ###### ---- Calcul distances ---- ###############\n",
    "\n",
    "    for i in range(1,len(M)):\n",
    "        for j in range(1,len(M[0])):\n",
    "        \n",
    "            gauche=M[i][j-1]+gap\n",
    "            diag=M[i-1][j-1] + score_match if seq1[i-1]==seq2[j-1] else M[i-1][j-1]+score_mismatch\n",
    "            haut=M[i-1][j]+gap\n",
    "        \n",
    "            distance=min(gauche,haut,diag)\n",
    "            M[i][j]=distance\n",
    "    return M"
   ]
  },
  {
   "cell_type": "code",
   "execution_count": 107,
   "id": "3e62b7b3",
   "metadata": {},
   "outputs": [
    {
     "data": {
      "text/plain": [
       "[[0, 2, 4, 6, 8, 10, 12, 14, 16],\n",
       " [2, 0, 2, 4, 6, 8, 10, 12, 14],\n",
       " [4, 2, 1, 2, 4, 6, 8, 10, 12],\n",
       " [6, 4, 3, 2, 2, 4, 6, 8, 10],\n",
       " [8, 6, 4, 4, 3, 2, 4, 6, 8],\n",
       " [10, 8, 6, 5, 5, 4, 2, 4, 6],\n",
       " [12, 10, 8, 6, 6, 6, 4, 2, 4],\n",
       " [14, 12, 10, 8, 7, 7, 6, 4, 2],\n",
       " [16, 14, 12, 10, 9, 8, 8, 6, 4],\n",
       " [18, 16, 14, 12, 11, 10, 9, 8, 6]]"
      ]
     },
     "execution_count": 107,
     "metadata": {},
     "output_type": "execute_result"
    }
   ],
   "source": [
    "### Application sur le premier exemple\n",
    "s11=\"ATGCATTTT\"\n",
    "s12=\"ACTGCATT\"\n",
    "\n",
    "score_match=0\n",
    "score_mismatch=1\n",
    "gap=2\n",
    "M1=NW(s11,s12,score_match,score_mismatch,gap)\n",
    "M1"
   ]
  },
  {
   "cell_type": "code",
   "execution_count": 108,
   "id": "15dbd713",
   "metadata": {},
   "outputs": [],
   "source": [
    "def affichage_alignement(M,seq1,seq2):\n",
    "    \n",
    "    ### Insérer les séquences dans la matrice\n",
    "    M_copy=M.copy()\n",
    "    M_copy.insert(0,2*[\"\"]+[ch for ch in seq2])\n",
    "    M_copy[1].insert(0,\"\")\n",
    "    for ligne,l in zip(M_copy[2:],seq1):\n",
    "        ligne.insert(0,l)\n",
    "    \n",
    "    ### affichage\n",
    "    print(\"Matrice des scores :\")\n",
    "    print()\n",
    "    for ligne in M_copy:\n",
    "        print(\" \".join(\"%3s\" % ch for ch in ligne))"
   ]
  },
  {
   "cell_type": "code",
   "execution_count": 109,
   "id": "c94ef689",
   "metadata": {},
   "outputs": [
    {
     "name": "stdout",
     "output_type": "stream",
     "text": [
      "Matrice des scores :\n",
      "\n",
      "          A   C   T   G   C   A   T   T\n",
      "      0   2   4   6   8  10  12  14  16\n",
      "  A   2   0   2   4   6   8  10  12  14\n",
      "  T   4   2   1   2   4   6   8  10  12\n",
      "  G   6   4   3   2   2   4   6   8  10\n",
      "  C   8   6   4   4   3   2   4   6   8\n",
      "  A  10   8   6   5   5   4   2   4   6\n",
      "  T  12  10   8   6   6   6   4   2   4\n",
      "  T  14  12  10   8   7   7   6   4   2\n",
      "  T  16  14  12  10   9   8   8   6   4\n",
      "  T  18  16  14  12  11  10   9   8   6\n"
     ]
    }
   ],
   "source": [
    "result=affichage_alignement(M1,s11,s12)\n",
    "result"
   ]
  },
  {
   "cell_type": "markdown",
   "id": "c8a28587",
   "metadata": {},
   "source": [
    "### Test"
   ]
  },
  {
   "cell_type": "code",
   "execution_count": 132,
   "id": "01b58672",
   "metadata": {},
   "outputs": [
    {
     "name": "stdout",
     "output_type": "stream",
     "text": [
      "Matrice des scores :\n",
      "\n",
      "          A   T   C   C   G   C\n",
      "      0   2   4   6   8  10  12\n",
      "  A   2   0   2   4   6   8  10\n",
      "  T   4   2   0   2   4   6   8\n",
      "  G   6   4   2   1   3   4   6\n",
      "  C   8   6   4   2   1   3   4\n"
     ]
    }
   ],
   "source": [
    "###exemple2\n",
    "s21=\"ATGC\"\n",
    "s22=\"ATCCGC\"\n",
    "M2=NW(s21,s22,score_match,score_mismatch,gap)\n",
    "res2=affichage_alignement(M2,s21,s22)\n",
    "res2"
   ]
  },
  {
   "cell_type": "code",
   "execution_count": 129,
   "id": "5a81679f",
   "metadata": {},
   "outputs": [
    {
     "name": "stdout",
     "output_type": "stream",
     "text": [
      "Matrice des scores :\n",
      "\n",
      "          A   T   C   G   T   G   A   C\n",
      "      0   2   4   6   8  10  12  14  16\n",
      "  C   2   1   3   4   6   8  10  12  14\n",
      "  G   4   3   2   4   4   6   8  10  12\n",
      "  A   6   4   4   3   5   5   7   8  10\n",
      "  T   8   6   4   5   4   5   6   8   9\n",
      "  C  10   8   6   4   6   5   6   7   8\n",
      "  G  12  10   8   6   4   6   5   7   8\n",
      "  T  14  12  10   8   6   4   6   6   8\n",
      "  G  16  14  12  10   8   6   4   6   7\n",
      "  A  18  16  14  12  10   8   6   4   6\n",
      "  C  20  18  16  14  12  10   8   6   4\n",
      "  T  22  20  18  16  14  12  10   8   6\n",
      "  T  24  22  20  18  16  14  12  10   8\n"
     ]
    }
   ],
   "source": [
    "###exemple3\n",
    "s31=\"CGATCGTGACTT\"\n",
    "s32=\"ATCGTGAC\"\n",
    "M3=NW(s31,s32,score_match,score_mismatch,gap)\n",
    "res3=affichage_alignement(M3,s31,s32)\n",
    "res3"
   ]
  },
  {
   "cell_type": "code",
   "execution_count": 128,
   "id": "49df54b3",
   "metadata": {},
   "outputs": [
    {
     "name": "stdout",
     "output_type": "stream",
     "text": [
      "Matrice des scores :\n",
      "\n",
      "          T   A   C   G   A   T   G   G   C\n",
      "      0   2   4   6   8  10  12  14  16  18\n",
      "  C   2   1   3   4   6   8  10  12  14  16\n",
      "  G   4   3   2   4   4   6   8  10  12  14\n",
      "  A   6   5   3   3   5   4   6   8  10  12\n",
      "  T   8   6   5   4   4   6   4   6   8  10\n",
      "  G  10   8   7   6   4   5   6   4   6   8\n",
      "  G  12  10   9   8   6   5   6   6   4   6\n",
      "  C  14  12  11   9   8   7   6   7   6   4\n"
     ]
    }
   ],
   "source": [
    "###exemple4\n",
    "s41=\"CGATGGC\"\n",
    "s42=\"TACGATGGC\"\n",
    "M4=NW(s41,s42,score_match,score_mismatch,gap)\n",
    "res4=affichage(M4,s41,s42)\n",
    "res4"
   ]
  },
  {
   "cell_type": "markdown",
   "id": "dc8442b2",
   "metadata": {},
   "source": [
    "### Alignement optimal "
   ]
  },
  {
   "cell_type": "code",
   "execution_count": 119,
   "id": "c92b11a4",
   "metadata": {},
   "outputs": [],
   "source": [
    "def un_alignement(seq1,seq2,match,mismatch,gap,scores):\n",
    "    \n",
    "    \"\"\"\n",
    "    fonction renvoyant l'un des alignements optimaux obtenus à partir \n",
    "    d'une matrice de scores\n",
    "    \"\"\"\n",
    "    \n",
    "    #initialisation séquences alignées\n",
    "    seq1_aln = ''\n",
    "    seq2_aln = ''\n",
    "    \n",
    "    # on commence l'alignement par la fin\n",
    "    i = len(seq1)\n",
    "    j = len(seq2)\n",
    "    \n",
    "    # parcours de la matrice\n",
    "    while i > 0 and j > 0:\n",
    "        # gap dans la séquence 1\n",
    "        if scores[i][j] == scores[i][j-1] + gap:\n",
    "            seq1_aln = '-' + seq1_aln\n",
    "            seq2_aln = seq2[j-1] + seq2_aln\n",
    "            j -= 1\n",
    "        # match ou mismatch\n",
    "        elif scores[i][j] == scores[i-1][j-1] + (match if seq1[i-1]==seq2[j-1] else mismatch):\n",
    "            seq1_aln = seq1[i-1] + seq1_aln\n",
    "            seq2_aln = seq2[j-1] + seq2_aln\n",
    "            i -= 1\n",
    "            j -= 1\n",
    "        #gap dans la séquence 2\n",
    "        else:\n",
    "            seq1_aln = seq1[i-1] + seq1_aln\n",
    "            seq2_aln = '-' + seq2_aln\n",
    "            i -= 1\n",
    "    \n",
    "    #s'il y a un gap au début de la deuxième séquence\n",
    "    while i > 0:\n",
    "        seq1_aln = seq1[i-1] + seq1_aln\n",
    "        seq2_aln = '-' + seq2_aln\n",
    "        i -= 1\n",
    "    \n",
    "    #s'il y a un gap au début de la première séquence\n",
    "    while j > 0:\n",
    "        seq1_aln = '-' + seq1_aln\n",
    "        seq2_aln = seq2[j-1] + seq2_aln\n",
    "        j -= 1\n",
    "    \n",
    "    return seq1_aln, seq2_aln"
   ]
  },
  {
   "cell_type": "code",
   "execution_count": 135,
   "id": "b80c3c79",
   "metadata": {},
   "outputs": [
    {
     "name": "stdout",
     "output_type": "stream",
     "text": [
      "Exemple 1 :\n",
      "Séquence 1 alignée : A-TGCATTTT\n",
      "Séquence 2 alignée : ACTGCA--TT\n",
      "\n",
      "---------------------------------------------------------------------------\n",
      "\n",
      "Exemple 2 :\n",
      "Séquence 1 alignée : AT--GC\n",
      "Séquence 2 alignée : ATCCGC\n",
      "\n",
      "---------------------------------------------------------------------------\n",
      "\n",
      "Exemple 3 :\n",
      "Séquence 1 alignée : CGATCGTGACTT\n",
      "Séquence 2 alignée : --ATCGTGAC--\n",
      "\n",
      "---------------------------------------------------------------------------\n",
      "\n",
      "Exemple 4 :\n",
      "Séquence 1 alignée : --CGATGGC\n",
      "Séquence 2 alignée : TACGATGGC\n"
     ]
    }
   ],
   "source": [
    "### Exemples traités précédemment\n",
    "\n",
    "M1=NW(s11,s12,score_match,score_mismatch,gap)\n",
    "align11,align12=un_alignement(s11,s12,score_match,score_mismatch,gap,M1)\n",
    "print(\"Exemple 1 :\")\n",
    "print(f\"Séquence 1 alignée : {align11}\")\n",
    "print(f\"Séquence 2 alignée : {align12}\")\n",
    "print()\n",
    "print(\"---------------------------------------------------------------------------\")\n",
    "print()\n",
    "M2=NW(s21,s22,score_match,score_mismatch,gap)\n",
    "align21,align22=un_alignement(s21,s22,score_match,score_mismatch,gap,M2)\n",
    "print(\"Exemple 2 :\")\n",
    "print(f\"Séquence 1 alignée : {align21}\")\n",
    "print(f\"Séquence 2 alignée : {align22}\")\n",
    "print()\n",
    "print(\"---------------------------------------------------------------------------\")\n",
    "print()\n",
    "M3=NW(s31,s32,score_match,score_mismatch,gap)\n",
    "align31,align32=un_alignement(s31,s32,score_match,score_mismatch,gap,M3)\n",
    "print(\"Exemple 3 :\")\n",
    "print(f\"Séquence 1 alignée : {align31}\")\n",
    "print(f\"Séquence 2 alignée : {align32}\")\n",
    "print()\n",
    "print(\"---------------------------------------------------------------------------\")\n",
    "print()\n",
    "M4=NW(s41,s42,score_match,score_mismatch,gap)\n",
    "align41,align42=un_alignement(s41,s42,score_match,score_mismatch,gap,M4)\n",
    "print(\"Exemple 4 :\")\n",
    "print(f\"Séquence 1 alignée : {align41}\")\n",
    "print(f\"Séquence 2 alignée : {align42}\")"
   ]
  }
 ],
 "metadata": {
  "kernelspec": {
   "display_name": "Python 3 (ipykernel)",
   "language": "python",
   "name": "python3"
  },
  "language_info": {
   "codemirror_mode": {
    "name": "ipython",
    "version": 3
   },
   "file_extension": ".py",
   "mimetype": "text/x-python",
   "name": "python",
   "nbconvert_exporter": "python",
   "pygments_lexer": "ipython3",
   "version": "3.9.13"
  }
 },
 "nbformat": 4,
 "nbformat_minor": 5
}
