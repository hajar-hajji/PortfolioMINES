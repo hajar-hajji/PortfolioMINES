{
 "cells": [
  {
   "cell_type": "markdown",
   "id": "e7369398",
   "metadata": {},
   "source": [
    "**Bioinformatique : Rendu_1** <Br>\n",
    "Hajar Hajji"
   ]
  },
  {
   "cell_type": "markdown",
   "id": "a824292d",
   "metadata": {},
   "source": [
    "## I. Étude du gène CALCA chez l’espèce Mus musculus"
   ]
  },
  {
   "cell_type": "markdown",
   "id": "5c44615e",
   "metadata": {},
   "source": [
    "Accéder à la page principale http://www.ncbi.nlm.nih.gov/search. <Br><Br>\n",
    "Cliquer sur le lien \"Nucleotide\" (dans la partie \"Genomes\"). Il amène sur une page permettant\n",
    "d’interroger l’ensemble des séquences nucléotidiques disponibles au NCBI. Ces séquences proviennent de\n",
    "différentes sources, dont la banque de données GenBank. Ces séquences peuvent correspondre à l’ADN\n",
    "d’un génome complet ou à celui de grandes fractions de génomes (par exemple des chromosomes\n",
    "complets ou partiels), mais aussi à l’ADN de zones plus petites, par exemple des gènes. Elles peuvent aussi être des ARN, notamment des ARNm. <Br><Br>\n",
    "Cliquer sur \"Advanced\" afin de faire une recherche sur plusieurs critères. Construire une requête en\n",
    "associant la valeur Mus musculus pour le critère \"Organism\" et la valeur CALCA pour le critère \"Gene\n",
    "Name\". Cliquer sur le bouton \"Search\".<Br>\n",
    "Dans la page qui apparait, il est indiqué que 12 entrées (= résultats) ont été trouvées, dont : <Br>\n",
    "- Quatre variants de l’ARNm de ce gène, nommé \"Mus musculus calcitonin/calcitonin-related\n",
    "polypeptide, alpha (Calca), transcript variant [1-2-3-4], mRNA\" : ils correspondent aux 4 ARNm\n",
    "(matures) de ce gène dont les séquences ont été déterminées expérimentalement ;<Br>\n",
    "- Plusieurs séquences du chromosome 7, dont la séquence référencée comme \"Mus musculus strain\n",
    "C57BL/6J chromosome 7, GRCm39\" (144 995 196 paires de bases).<Br>"
   ]
  },
  {
   "cell_type": "markdown",
   "id": "614a86c2",
   "metadata": {},
   "source": [
    "#### Complément :"
   ]
  },
  {
   "cell_type": "markdown",
   "id": "0f31d0ae",
   "metadata": {},
   "source": [
    "Le format FASTA, très utilisé en bioinformatique, permet de décrire des séquences. Il a la forme\n",
    "suivante : <Br>\n",
    "o *1ère ligne :* elle commence toujours par le caractère '>' suivi d'un texte contenant un\n",
    "bref descriptif de la séquence (par exemple le nom du gène et celui de l'espèce à\n",
    "laquelle il appartient) <Br>\n",
    "o *lignes suivantes :* elles contiennent la séquence"
   ]
  },
  {
   "cell_type": "markdown",
   "id": "75104b7c",
   "metadata": {},
   "source": [
    "Pour récupérer la séquence correspondant à une entrée de la base, il existe plusieurs manières de procéder dont la suivante : <Br>\n",
    "• Cliquer sur cette entrée : cela permet d’avoir un descriptif de cette entrée et, à la fin, la\n",
    "séquence correspondante. Ce descriptif est au format de la banque GenBank, comme indiqué en\n",
    "haut de la page. <Br>\n",
    "• Cliquer sur la flèche située à côté de \"Send to\" (situé en haut à droite), sélectionner \"File\", puis le format \"FASTA\" et cliquer sur \"Create File\". Sauvegarder le fichier obtenu. <Br>"
   ]
  },
  {
   "cell_type": "code",
   "execution_count": 58,
   "id": "131398c8",
   "metadata": {},
   "outputs": [
    {
     "name": "stdout",
     "output_type": "stream",
     "text": [
      "Requirement already satisfied: biopython in c:\\users\\hajar\\anaconda3\\lib\\site-packages (1.81)\n",
      "Requirement already satisfied: numpy in c:\\users\\hajar\\anaconda3\\lib\\site-packages (from biopython) (1.21.5)\n",
      "Note: you may need to restart the kernel to use updated packages.\n"
     ]
    }
   ],
   "source": [
    "pip install biopython"
   ]
  },
  {
   "cell_type": "code",
   "execution_count": 59,
   "id": "9580820a",
   "metadata": {},
   "outputs": [],
   "source": [
    "from Bio import SeqIO"
   ]
  },
  {
   "cell_type": "code",
   "execution_count": 60,
   "id": "fe07c608",
   "metadata": {},
   "outputs": [],
   "source": [
    "def lecture_sequence_0(fichier):\n",
    "    f=SeqIO.read(fichier, \"fasta\")\n",
    "    return str(f.seq)"
   ]
  },
  {
   "cell_type": "code",
   "execution_count": 61,
   "id": "4b750fab",
   "metadata": {},
   "outputs": [],
   "source": [
    "#lecture manuelle\n",
    "def lecture_sequence(fichier):\n",
    "    \"\"\"\n",
    "    lecture d'une séquence au format FASTA\n",
    "    \"\"\"\n",
    "    f=open(fichier,\"r\")\n",
    "    lignes=f.readlines()\n",
    "    f.close()\n",
    "    if not lignes[0].startswith(\">\"):\n",
    "        print(\"Erreur de format ! votre fichier n'est pas au format fasta...\")\n",
    "    else:\n",
    "        liste=[]\n",
    "        for element in lignes[1:]:\n",
    "            liste.append(element)\n",
    "        sequence=''.join(liste).replace(\"\\n\", \"\")\n",
    "        caracteres=[\"A\",\"C\",\"G\",\"T\",\"N\",\"a\",\"c\",\"g\",\"t\",\"n\",\"N\"]\n",
    "        tous_caracteres_valides=True\n",
    "        for ch in sequence:\n",
    "            if ch not in caracteres:\n",
    "                print(\"Votre séquence comprend un caractère inattendu !\")\n",
    "                tous_caracteres_valides=False\n",
    "        if tous_caracteres_valides:       \n",
    "            return sequence.upper()"
   ]
  },
  {
   "cell_type": "code",
   "execution_count": 62,
   "id": "70bb0cda",
   "metadata": {},
   "outputs": [],
   "source": [
    "def lecture_sequence_2(fichier):\n",
    "    \"\"\"\n",
    "    3ème manière de faire\n",
    "    \"\"\"\n",
    "    f=open(fichier,\"r\")\n",
    "    ligne=f.readline()\n",
    "    \n",
    "    if ligne[0]!=\">\":\n",
    "        print(\"Erreur de format ! votre fichier n'est pas au format fasta...\")\n",
    "        return None\n",
    "    \n",
    "    sequence=\"\"\n",
    "    ligne=f.readline() #2ème ligne\n",
    "    while ligne!=\"\":\n",
    "        ligne=ligne.upper()\n",
    "        for ch in ligne:\n",
    "            if ch in \"ACGTN\":\n",
    "                sequence+=ch\n",
    "            elif ch!=\"\\n\":\n",
    "                print(\"Votre séquence comprend un caractère inattendu !\")\n",
    "                return None\n",
    "        ligne=f.readline()\n",
    "    f.close()\n",
    "    return sequence"
   ]
  },
  {
   "cell_type": "code",
   "execution_count": 63,
   "id": "9a5017fc",
   "metadata": {},
   "outputs": [
    {
     "data": {
      "text/plain": [
       "'CCCGACTCACCACGGCGGGAATAAGAGCAGCTGCAGGCGCTGGGAGGCACAGGAGCCACTGCCAGGATCAAGAGTCACCGCTTCGCAAGCACTGCCTGGCTCCATCAGGATCCCCGCAGGCTCAGCTCCAAGGCACCGCTCACCAGGAAGGCATCATGGGCTTCCTGAAGTTCTCCCCTTTCCTGGTTGTCAGCATCTTGCTCCTGTACCAGGCATGCAGCCTCCAGGCAGTGCCTTTGAGGTCAATCTTGGAAAGCAGCCCAGGCATGGCCACTCTCAGTGAAGAAGAAGTTCGCCTGCTGGCTGCACTGGTGCAGGACTATATGCAGATGAAAGCCAGGGAGCTGGAGCAGGAGGAAGAGCAGGAGGCTGAGGGCTCTAGCTTGGACAGCCCCAGATCTAAGCGGTGTGGGAATCTGAGTACCTGCATGCTGGGCACGTACACACAAGACCTCAACAAGTTTCACACCTTCCCCCAAACTTCAATTGGGGTTGAAGCACCTGGCAAGAAAAGGGATGTGGCCAAGGACTTGGAGACAAACCACCAATCCCATTTTGGCAACTAAGCTCCTTCTCTCCTTTCTAGTTTCCTTCTTGCTTTCTTCCTATAACTTGATGCATGTAGTTCCTCTCTGGTTGCTCTCCAGGCTATTACTGGTTGCTTTCCTGAGGCAAAGAATGGTATCTGAAATCCCCAGTGGGTGAGGAGAAAGTCCCACAGGCTAAAAGAGAATCACCCAGGAAGATGGCAGAGAGCAAGGGCACACTCAGGAAGATGGCAGAGAGCAAGGGCAGTCATCTGGCTTCCTAGTAGAGCTTCTAGTCTTGCTTCTGGAAGTGTTGGTTGTTTGGGAAATAAAACTATTTTTTAAAAAGAAAAAAAAAAAAAAAAAAAAAAAAAAAAAAAAAAAAAAAAAAAAAAAAAA'"
      ]
     },
     "execution_count": 63,
     "metadata": {},
     "output_type": "execute_result"
    }
   ],
   "source": [
    "variant1=lecture_sequence(\"ARNm1.fasta\")\n",
    "variant1"
   ]
  },
  {
   "cell_type": "code",
   "execution_count": 64,
   "id": "7eac196e",
   "metadata": {},
   "outputs": [
    {
     "data": {
      "text/plain": [
       "'CCCGACTCACCACGGCGGGAATAAGAGCAGCTGCAGGCGCTGGGAGGCACAGGAGCCACTGCCAGGATCAAGAGTCACCGCTTCGCAAGCACTGCCTGGCTCCATCAGGATCCCCGCAGGCTCAGCTCCAAGGCACCGCTCACCAGGAAGGCATCATGGGCTTCCTGAAGTTCTCCCCTTTCCTGGTTGTCAGCATCTTGCTCCTGTACCAGGCATGCAGCCTCCAGGCAGTGCCTTTGAGGTCAATCTTGGAAAGCAGCCCAGGCATGGCCACTCTCAGTGAAGAAGAAGTTCGCCTGCTGGCTGCACTGGTGCAGGACTATATGCAGATGAAAGCCAGGGAGCTGGAGCAGGAGGAAGAGCAGGAGGCTGAGGGCTCTAGTGTCACTGCTCAGAAGAGATCCTGCAACACTGCCACCTGTGTGACCCATCGGCTGGCAGGTCTGCTGAGCAGATCAGGAGGTGTGGTGAAGGACAACTTTGTTCCCACCAATGTGGGCTCTGAAGCCTTCGGCCGCCGCCGCAGGGACCTTCAGGCCTGAACAGATAACAGCCCCAGAATGAAGGTTACACAATAAAGATAAACTCTAATTCTATTCATGTATAATTAAAGTTATGTATAAGAAAGGCTGATGAAAGACACATATATTTGCATCCTTCTTAGTATTGAAAAACCCTTCTCCCTTTGACAGGAGCTAAAGCTAAGTGCAGAATAAGTTGCCTATTGTGCATCGTGTTGTATGTGACTCTGTATCCAATAAACATGACAGCATGGTTCTGGCTTATCTGGTAGCAAATATGGTCCCCATAAACCATCCTGTTGATGTTGATGACTCTGCTAAACCTCAAGGGGATATGAAACACTGCCTCTTGCTCTTCTGGGGACACATGGTAATGTTGTGACTCAATGGAACCATATGCTTAAAGAACTCTTAATATTGTCACTTGTGAATGTAATCAAAATTAAAAACAAATGTATTTTCAATATCCTCAAAAAAAAAAAAAAAAAAAAAAAAAAAAAA'"
      ]
     },
     "execution_count": 64,
     "metadata": {},
     "output_type": "execute_result"
    }
   ],
   "source": [
    "variant2=lecture_sequence(\"ARNm2.fasta\")\n",
    "variant2"
   ]
  },
  {
   "cell_type": "code",
   "execution_count": 65,
   "id": "438f79fe",
   "metadata": {},
   "outputs": [
    {
     "data": {
      "text/plain": [
       "'CCCGACTCACCACGGCGGGAATAAGAGCAGCTGCAGGCGCTGGGAGGCACAGGAGCCACTGCCAGGATCAAGAGTCACCGCTTCGCAAGCACTGCCTGGCTCCATCAGGATCCCCGCAGGCTCAGCTCCAAGGCACCGCTCACCAGGTGAGCCCTAAAATTCCTGTTCAGGAAGGCATCATGGGCTTCCTGAAGTTCTCCCCTTTCCTGGTTGTCAGCATCTTGCTCCTGTACCAGGCATGCAGCCTCCAGGCAGTGCCTTTGAGGTCAATCTTGGAAAGCAGCCCAGGCATGGCCACTCTCAGTGAAGAAGAAGTTCGCCTGCTGGCTGCACTGGTGCAGGACTATATGCAGATGAAAGCCAGGGAGCTGGAGCAGGAGGAAGAGCAGGAGGCTGAGGGCTCTAGTGTCACTGCTCAGAAGAGATCCTGCAACACTGCCACCTGTGTGACCCATCGGCTGGCAGGTCTGCTGAGCAGATCAGGAGGTGTGGTGAAGGACAACTTTGTTCCCACCAATGTGGGCTCTGAAGCCTTCGGCCGCCGCCGCAGGGACCTTCAGGCCTGAACAGATAACAGCCCCAGAATGAAGGTTACACAATAAAGATAAACTCTAATTCTATTCATGTATAATTAAAGTTATGTATAAGAAAGGCTGATGAAAGACACATATATTTGCATCCTTCTTAGTATTGAAAAACCCTTCTCCCTTTGACAGGAGCTAAAGCTAAGTGCAGAATAAGTTGCCTATTGTGCATCGTGTTGTATGTGACTCTGTATCCAATAAACATGACAGCATGGTTCTGGCTTATCTGGTAGCAAATATGGTCCCCATAAACCATCCTGTTGATGTTGATGACTCTGCTAAACCTCAAGGGGATATGAAACACTGCCTCTTGCTCTTCTGGGGACACATGGTAATGTTGTGACTCAATGGAACCATATGCTTAAAGAACTCTTAATATTGTCACTTGTGAATGTAATCAAAATTAAAAACAAATGTATTTTCAATATCCTCAAAAAAAAAAAAAAAAAAAAAAAAAAAAAA'"
      ]
     },
     "execution_count": 65,
     "metadata": {},
     "output_type": "execute_result"
    }
   ],
   "source": [
    "variant3=lecture_sequence(\"ARNm3.fasta\")\n",
    "variant3"
   ]
  },
  {
   "cell_type": "code",
   "execution_count": 66,
   "id": "36109a49",
   "metadata": {},
   "outputs": [
    {
     "data": {
      "text/plain": [
       "'CCCGACTCACCACGGCGGGAATAAGAGCAGCTGCAGGCGCTGGGAGGCACAGGAGCCACTGCCAGGATCAAGAGTCACCGCTTCGCAAGCACTGCCTGGCTCCATCAGGATCCCCGCAGGCTCAGCTCCAAGGCACCGCTCACCAGGTGAGCCCTAAAATTCCTGTTCAGGAAGGCATCATGGGCTTCCTGAAGTTCTCCCCTTTCCTGGTTGTCAGCATCTTGCTCCTGTACCAGGCATGCAGCCTCCAGGCAGTGCCTTTGAGGTCAATCTTGGAAAGCAGCCCAGGCATGGCCACTCTCAGTGAAGAAGAAGTTCGCCTGCTGGCTGCACTGGTGCAGGACTATATGCAGATGAAAGCCAGGGAGCTGGAGCAGGAGGAAGAGCAGGAGGCTGAGGGCTCTAGCTTGGACAGCCCCAGATCTAAGCGGTGTGGGAATCTGAGTACCTGCATGCTGGGCACGTACACACAAGACCTCAACAAGTTTCACACCTTCCCCCAAACTTCAATTGGGGTTGAAGCACCTGGCAAGAAAAGGGATGTGGCCAAGGACTTGGAGACAAACCACCAATCCCATTTTGGCAACTAAGCTCCTTCTCTCCTTTCTAGTTTCCTTCTTGCTTTCTTCCTATAACTTGATGCATGTAGTTCCTCTCTGGTTGCTCTCCAGGCTATTACTGGTTGCTTTCCTGAGGCAAAGAATGGTATCTGAAATCCCCAGTGGGTGAGGAGAAAGTCCCACAGGCTAAAAGAGAATCACCCAGGAAGATGGCAGAGAGCAAGGGCACACTCAGGAAGATGGCAGAGAGCAAGGGCAGTCATCTGGCTTCCTAGTAGAGCTTCTAGTCTTGCTTCTGGAAGTGTTGGTTGTTTGGGAAATAAAACTATTTTTTAAAAAGAAAAAAAAAAAAAAAAAAAAAAAAAAAAAAAAAAAAAAAAAAAAAAAAAA'"
      ]
     },
     "execution_count": 66,
     "metadata": {},
     "output_type": "execute_result"
    }
   ],
   "source": [
    "variant4=lecture_sequence(\"ARNm4.fasta\")\n",
    "variant4"
   ]
  },
  {
   "cell_type": "markdown",
   "id": "f1c03f7e",
   "metadata": {},
   "source": [
    "### Etape 1 : détermination des séquences des exons des ARNm"
   ]
  },
  {
   "cell_type": "code",
   "execution_count": 67,
   "id": "bd997e9c",
   "metadata": {},
   "outputs": [],
   "source": [
    "def extraction_un_fragment(seq,initial_idx,final_idx):\n",
    "    \"\"\"\n",
    "    extraire un fragment d'une séquence\n",
    "    \"\"\"\n",
    "    fragment=seq[initial_idx-1:final_idx]\n",
    "    return fragment"
   ]
  },
  {
   "cell_type": "code",
   "execution_count": 68,
   "id": "99df072a",
   "metadata": {},
   "outputs": [
    {
     "data": {
      "text/plain": [
       "'ATCGA'"
      ]
     },
     "execution_count": 68,
     "metadata": {},
     "output_type": "execute_result"
    }
   ],
   "source": [
    "seq=\"ATCGATCGATCG\"\n",
    "frag=extraction_un_fragment(seq,1,5)\n",
    "frag"
   ]
  },
  {
   "cell_type": "code",
   "execution_count": 69,
   "id": "5332e070",
   "metadata": {},
   "outputs": [],
   "source": [
    "def extraction_des_fragments(seq,positions):   # positions : liste de tuples\n",
    "    \"\"\"\n",
    "    extraire plusieurs fragments d'une séquence\n",
    "    \"\"\"\n",
    "    fragments=[]\n",
    "    for position in positions:\n",
    "        initial_idx,final_idx=position\n",
    "        fragment=extraction_un_fragment(seq,initial_idx,final_idx)\n",
    "        fragments.append(fragment)\n",
    "    return fragments  "
   ]
  },
  {
   "cell_type": "code",
   "execution_count": 70,
   "id": "83738fdd",
   "metadata": {},
   "outputs": [
    {
     "name": "stdout",
     "output_type": "stream",
     "text": [
      "['ATCGA', 'ATCGATCGAT']\n"
     ]
    }
   ],
   "source": [
    "seq=\"ATCGATCGATCG\"\n",
    "positions=[(1,5), (1,10)]\n",
    "fragments=extraction_des_fragments(seq, positions)\n",
    "print(fragments)"
   ]
  },
  {
   "cell_type": "markdown",
   "id": "3d5ba918",
   "metadata": {},
   "source": [
    "#### Extraire les positions des axons :"
   ]
  },
  {
   "cell_type": "markdown",
   "id": "ec9304c0",
   "metadata": {},
   "source": [
    "Ouvrir le descriptif GenBank de la séquence du variant 1 de l’ARNm. La première ligne indique sa longueur (926 pb). Plus bas, dans la zone nommée FEATURES, on trouve différentes informations dont : <Br>\n",
    "• la position des exons (exon 1 : 1 à 146 ; exon 2 : 147 à 241 ; exon 3 : 242 à 382 ; exon 4 : 383 à 877) <Br>\n",
    "• la position de la région codante ou CDS (156 à 566)"
   ]
  },
  {
   "cell_type": "markdown",
   "id": "0517bbc6",
   "metadata": {},
   "source": [
    "**variant 1 :** https://www.ncbi.nlm.nih.gov/nuccore/NM_007587.2"
   ]
  },
  {
   "cell_type": "code",
   "execution_count": 71,
   "id": "0cb06466",
   "metadata": {},
   "outputs": [
    {
     "data": {
      "text/plain": [
       "['CCCGACTCACCACGGCGGGAATAAGAGCAGCTGCAGGCGCTGGGAGGCACAGGAGCCACTGCCAGGATCAAGAGTCACCGCTTCGCAAGCACTGCCTGGCTCCATCAGGATCCCCGCAGGCTCAGCTCCAAGGCACCGCTCACCAG',\n",
       " 'GAAGGCATCATGGGCTTCCTGAAGTTCTCCCCTTTCCTGGTTGTCAGCATCTTGCTCCTGTACCAGGCATGCAGCCTCCAGGCAGTGCCTTTGAG',\n",
       " 'GTCAATCTTGGAAAGCAGCCCAGGCATGGCCACTCTCAGTGAAGAAGAAGTTCGCCTGCTGGCTGCACTGGTGCAGGACTATATGCAGATGAAAGCCAGGGAGCTGGAGCAGGAGGAAGAGCAGGAGGCTGAGGGCTCTAG',\n",
       " 'CTTGGACAGCCCCAGATCTAAGCGGTGTGGGAATCTGAGTACCTGCATGCTGGGCACGTACACACAAGACCTCAACAAGTTTCACACCTTCCCCCAAACTTCAATTGGGGTTGAAGCACCTGGCAAGAAAAGGGATGTGGCCAAGGACTTGGAGACAAACCACCAATCCCATTTTGGCAACTAAGCTCCTTCTCTCCTTTCTAGTTTCCTTCTTGCTTTCTTCCTATAACTTGATGCATGTAGTTCCTCTCTGGTTGCTCTCCAGGCTATTACTGGTTGCTTTCCTGAGGCAAAGAATGGTATCTGAAATCCCCAGTGGGTGAGGAGAAAGTCCCACAGGCTAAAAGAGAATCACCCAGGAAGATGGCAGAGAGCAAGGGCACACTCAGGAAGATGGCAGAGAGCAAGGGCAGTCATCTGGCTTCCTAGTAGAGCTTCTAGTCTTGCTTCTGGAAGTGTTGGTTGTTTGGGAAATAAAACTATTTTTTAAAAAGA']"
      ]
     },
     "execution_count": 71,
     "metadata": {},
     "output_type": "execute_result"
    }
   ],
   "source": [
    "# test variant 1\n",
    "positions_exons_1=[(1,146), (147,241),(242,382),(383,877)]\n",
    "fragments_exons_1=extraction_des_fragments(variant1, positions_exons_1)\n",
    "fragments_exons_1"
   ]
  },
  {
   "cell_type": "markdown",
   "id": "fc100151",
   "metadata": {},
   "source": [
    "idem pour les exons des autres ARNm"
   ]
  },
  {
   "cell_type": "markdown",
   "id": "90a25cdc",
   "metadata": {},
   "source": [
    "**variant 2 :** https://www.ncbi.nlm.nih.gov/nuccore/NM_001033954.3"
   ]
  },
  {
   "cell_type": "code",
   "execution_count": 72,
   "id": "eb3f7cb5",
   "metadata": {},
   "outputs": [
    {
     "data": {
      "text/plain": [
       "['CCCGACTCACCACGGCGGGAATAAGAGCAGCTGCAGGCGCTGGGAGGCACAGGAGCCACTGCCAGGATCAAGAGTCACCGCTTCGCAAGCACTGCCTGGCTCCATCAGGATCCCCGCAGGCTCAGCTCCAAGGCACCGCTCACCAG',\n",
       " 'GAAGGCATCATGGGCTTCCTGAAGTTCTCCCCTTTCCTGGTTGTCAGCATCTTGCTCCTGTACCAGGCATGCAGCCTCCAGGCAGTGCCTTTGAG',\n",
       " 'GTCAATCTTGGAAAGCAGCCCAGGCATGGCCACTCTCAGTGAAGAAGAAGTTCGCCTGCTGGCTGCACTGGTGCAGGACTATATGCAGATGAAAGCCAGGGAGCTGGAGCAGGAGGAAGAGCAGGAGGCTGAGGGCTCTAG',\n",
       " 'TGTCACTGCTCAGAAGAGATCCTGCAACACTGCCACCTGTGTGACCCATCGGCTGGCAGGTCTGCTGAGCAGATCAGGAGGTGTGGTGAAGGACAACTTTGTTCCCACCAATGTGGGCTCTGAAGCCTTCGGCCGCCGCCGCAGGGACCTTCAGGCCTGAACAGATAACAGCCCCAGAATGAAG',\n",
       " 'GTTACACAATAAAGATAAACTCTAATTCTATTCATGTATAATTAAAGTTATGTATAAGAAAGGCTGATGAAAGACACATATATTTGCATCCTTCTTAGTATTGAAAAACCCTTCTCCCTTTGACAGGAGCTAAAGCTAAGTGCAGAATAAGTTGCCTATTGTGCATCGTGTTGTATGTGACTCTGTATCCAATAAACATGACAGCATGGTTCTGGCTTATCTGGTAGCAAATATGGTCCCCATAAACCATCCTGTTGATGTTGATGACTCTGCTAAACCTCAAGGGGATATGAAACACTGCCTCTTGCTCTTCTGGGGACACATGGTAATGTTGTGACTCAATGGAACCATATGCTTAAAGAACTCTTAATATTGTCACTTGTGAATGTAATCAAAATTAAAAACAAATGTATTTTCAATATCCTCAA']"
      ]
     },
     "execution_count": 72,
     "metadata": {},
     "output_type": "execute_result"
    }
   ],
   "source": [
    "# test variant 2\n",
    "positions_exons_2=[(1,146), (147,241),(242,382),(383,566),(567,994)]\n",
    "fragments_exons_2=extraction_des_fragments(variant2, positions_exons_2)\n",
    "fragments_exons_2"
   ]
  },
  {
   "cell_type": "markdown",
   "id": "7097a6af",
   "metadata": {},
   "source": [
    "**variant 3 :** https://www.ncbi.nlm.nih.gov/nuccore/NM_001289444.1"
   ]
  },
  {
   "cell_type": "code",
   "execution_count": 73,
   "id": "090eec07",
   "metadata": {},
   "outputs": [
    {
     "data": {
      "text/plain": [
       "['CCCGACTCACCACGGCGGGAATAAGAGCAGCTGCAGGCGCTGGGAGGCACAGGAGCCACTGCCAGGATCAAGAGTCACCGCTTCGCAAGCACTGCCTGGCTCCATCAGGATCCCCGCAGGCTCAGCTCCAAGGCACCGCTCACCAGGTGAGCCCTAAAATTCCTGTTCAG',\n",
       " 'GAAGGCATCATGGGCTTCCTGAAGTTCTCCCCTTTCCTGGTTGTCAGCATCTTGCTCCTGTACCAGGCATGCAGCCTCCAGGCAGTGCCTTTGAG',\n",
       " 'GTCAATCTTGGAAAGCAGCCCAGGCATGGCCACTCTCAGTGAAGAAGAAGTTCGCCTGCTGGCTGCACTGGTGCAGGACTATATGCAGATGAAAGCCAGGGAGCTGGAGCAGGAGGAAGAGCAGGAGGCTGAGGGCTCTAG',\n",
       " 'TGTCACTGCTCAGAAGAGATCCTGCAACACTGCCACCTGTGTGACCCATCGGCTGGCAGGTCTGCTGAGCAGATCAGGAGGTGTGGTGAAGGACAACTTTGTTCCCACCAATGTGGGCTCTGAAGCCTTCGGCCGCCGCCGCAGGGACCTTCAGGCCTGAACAGATAACAGCCCCAGAATGAAG',\n",
       " 'GTTACACAATAAAGATAAACTCTAATTCTATTCATGTATAATTAAAGTTATGTATAAGAAAGGCTGATGAAAGACACATATATTTGCATCCTTCTTAGTATTGAAAAACCCTTCTCCCTTTGACAGGAGCTAAAGCTAAGTGCAGAATAAGTTGCCTATTGTGCATCGTGTTGTATGTGACTCTGTATCCAATAAACATGACAGCATGGTTCTGGCTTATCTGGTAGCAAATATGGTCCCCATAAACCATCCTGTTGATGTTGATGACTCTGCTAAACCTCAAGGGGATATGAAACACTGCCTCTTGCTCTTCTGGGGACACATGGTAATGTTGTGACTCAATGGAACCATATGCTTAAAGAACTCTTAATATTGTCACTTGTGAATGTAATCAAAATTAAAAACAAATGTATTTTCAATATCCTCAA']"
      ]
     },
     "execution_count": 73,
     "metadata": {},
     "output_type": "execute_result"
    }
   ],
   "source": [
    "# test variant 3\n",
    "positions_exons_3=[(1,170), (171,265),(266,406),(407,590),(591,1018)]\n",
    "fragments_exons_3=extraction_des_fragments(variant3, positions_exons_3)\n",
    "fragments_exons_3"
   ]
  },
  {
   "cell_type": "markdown",
   "id": "a05c8f69",
   "metadata": {},
   "source": [
    "**variant 4 :** https://www.ncbi.nlm.nih.gov/nuccore/NM_001305616.1"
   ]
  },
  {
   "cell_type": "code",
   "execution_count": 74,
   "id": "73185c29",
   "metadata": {},
   "outputs": [
    {
     "data": {
      "text/plain": [
       "['CCCGACTCACCACGGCGGGAATAAGAGCAGCTGCAGGCGCTGGGAGGCACAGGAGCCACTGCCAGGATCAAGAGTCACCGCTTCGCAAGCACTGCCTGGCTCCATCAGGATCCCCGCAGGCTCAGCTCCAAGGCACCGCTCACCAGGTGAGCCCTAAAATTCCTGTTCAG',\n",
       " 'GAAGGCATCATGGGCTTCCTGAAGTTCTCCCCTTTCCTGGTTGTCAGCATCTTGCTCCTGTACCAGGCATGCAGCCTCCAGGCAGTGCCTTTGAG',\n",
       " 'GTCAATCTTGGAAAGCAGCCCAGGCATGGCCACTCTCAGTGAAGAAGAAGTTCGCCTGCTGGCTGCACTGGTGCAGGACTATATGCAGATGAAAGCCAGGGAGCTGGAGCAGGAGGAAGAGCAGGAGGCTGAGGGCTCTAG',\n",
       " 'CTTGGACAGCCCCAGATCTAAGCGGTGTGGGAATCTGAGTACCTGCATGCTGGGCACGTACACACAAGACCTCAACAAGTTTCACACCTTCCCCCAAACTTCAATTGGGGTTGAAGCACCTGGCAAGAAAAGGGATGTGGCCAAGGACTTGGAGACAAACCACCAATCCCATTTTGGCAACTAAGCTCCTTCTCTCCTTTCTAGTTTCCTTCTTGCTTTCTTCCTATAACTTGATGCATGTAGTTCCTCTCTGGTTGCTCTCCAGGCTATTACTGGTTGCTTTCCTGAGGCAAAGAATGGTATCTGAAATCCCCAGTGGGTGAGGAGAAAGTCCCACAGGCTAAAAGAGAATCACCCAGGAAGATGGCAGAGAGCAAGGGCACACTCAGGAAGATGGCAGAGAGCAAGGGCAGTCATCTGGCTTCCTAGTAGAGCTTCTAGTCTTGCTTCTGGAAGTGTTGGTTGTTTGGGAAATAAAACTATTTTTTAAAAAGA']"
      ]
     },
     "execution_count": 74,
     "metadata": {},
     "output_type": "execute_result"
    }
   ],
   "source": [
    "# test variant 4\n",
    "positions_exons_4=[(1,170), (171,265),(266,406),(407,901)]\n",
    "fragments_exons_4=extraction_des_fragments(variant4, positions_exons_4)\n",
    "fragments_exons_4"
   ]
  },
  {
   "cell_type": "code",
   "execution_count": 75,
   "id": "798513ea",
   "metadata": {},
   "outputs": [],
   "source": [
    "# def extraction_des_fragments_2(seq,positions):\n",
    "#     fragments=[]\n",
    "#     for i in range(len(positions)):\n",
    "#         initial_idx=positions[i][0]\n",
    "#         final_idx=positions[i][1]\n",
    "#         fragments.append(extraction_un_fragment(seq,initial_idx,final_idx))\n",
    "#     return fragments"
   ]
  },
  {
   "cell_type": "code",
   "execution_count": 76,
   "id": "92152e3f",
   "metadata": {},
   "outputs": [],
   "source": [
    "# positions = [(1,5), (1,10)]\n",
    "# fragments = extraction_des_fragments_2(seq, positions)\n",
    "# print(fragments)"
   ]
  },
  {
   "cell_type": "markdown",
   "id": "96919a08",
   "metadata": {},
   "source": [
    "### Etape 2 : détermination de la position des exons des ARNm dans le gène"
   ]
  },
  {
   "cell_type": "code",
   "execution_count": 77,
   "id": "614b08d7",
   "metadata": {},
   "outputs": [],
   "source": [
    "def position_un_fragment(seq,fragment):\n",
    "    \"\"\"\n",
    "    chercher la position de chaque exon de chaque ARNm dans le gène\n",
    "    \"\"\"\n",
    "    ind_debut=seq.find(fragment)\n",
    "    #find : renvoie l'indice de la première occurrence d'une sous-chaîne\n",
    "    #si la sous-chaîne n'est pas trouvée, la méthode renvoie -1\n",
    "    if ind_debut==-1:\n",
    "        return 0,0\n",
    "    deb=ind_debut +1 #en biologie, l'indice de début est 0\n",
    "    fin=deb + len(fragment) -1\n",
    "    return deb,fin"
   ]
  },
  {
   "cell_type": "code",
   "execution_count": 78,
   "id": "10f620e5",
   "metadata": {},
   "outputs": [
    {
     "data": {
      "text/plain": [
       "(2, 4)"
      ]
     },
     "execution_count": 78,
     "metadata": {},
     "output_type": "execute_result"
    }
   ],
   "source": [
    "seq=\"ATCGATCGATCG\"\n",
    "fragment=\"TCG\"\n",
    "position_un_fragment(seq,fragment)"
   ]
  },
  {
   "cell_type": "code",
   "execution_count": 79,
   "id": "6f556e74",
   "metadata": {},
   "outputs": [],
   "source": [
    "def position_des_fragments(seq,fragments):\n",
    "    \"\"\"\n",
    "    déterminer la position de plusieurs fragments dans une séquence\n",
    "    \"\"\"\n",
    "    liste_pos=[]\n",
    "    for frag in fragments:\n",
    "        pos_frag=position_un_fragment(seq,frag)\n",
    "        liste_pos.append(pos_frag)\n",
    "    return liste_pos"
   ]
  },
  {
   "cell_type": "code",
   "execution_count": 80,
   "id": "88c9d3a5",
   "metadata": {},
   "outputs": [
    {
     "data": {
      "text/plain": [
       "[(2, 4), (1, 3)]"
      ]
     },
     "execution_count": 80,
     "metadata": {},
     "output_type": "execute_result"
    }
   ],
   "source": [
    "fragments=[\"TCG\",\"ATC\"]\n",
    "position_des_fragments(seq,fragments)"
   ]
  },
  {
   "cell_type": "code",
   "execution_count": 81,
   "id": "228c11ad",
   "metadata": {},
   "outputs": [],
   "source": [
    "#Déterminer la position des exons de chaque ARNm dans le gène\n",
    "gene=lecture_sequence_2(\"CALCA_gene.fasta\")\n",
    "\n",
    "positions_exons1_dans_gene=position_des_fragments(gene,fragments_exons_1)\n",
    "positions_exons2_dans_gene=position_des_fragments(gene,fragments_exons_2)\n",
    "positions_exons3_dans_gene=position_des_fragments(gene,fragments_exons_3)\n",
    "positions_exons4_dans_gene=position_des_fragments(gene,fragments_exons_4)"
   ]
  },
  {
   "cell_type": "code",
   "execution_count": 82,
   "id": "ab5e4ad9",
   "metadata": {},
   "outputs": [
    {
     "name": "stdout",
     "output_type": "stream",
     "text": [
      "Positions des exons dans le gène :\n",
      "variant1 : [(554, 699), (1690, 1784), (2303, 2443), (3126, 3620)]\n",
      "variant2 : [(554, 699), (1690, 1784), (2303, 2443), (4312, 4495), (5006, 5433)]\n",
      "variant3 : [(554, 723), (1690, 1784), (2303, 2443), (4312, 4495), (5006, 5433)]\n",
      "variant4 : [(554, 723), (1690, 1784), (2303, 2443), (3126, 3620)]\n"
     ]
    }
   ],
   "source": [
    "print(\"Positions des exons dans le gène :\")\n",
    "print(f\"variant1 : {positions_exons1_dans_gene}\")\n",
    "print(f\"variant2 : {positions_exons2_dans_gene}\")\n",
    "print(f\"variant3 : {positions_exons3_dans_gene}\")\n",
    "print(f\"variant4 : {positions_exons4_dans_gene}\")"
   ]
  },
  {
   "cell_type": "markdown",
   "id": "484e673b",
   "metadata": {},
   "source": [
    "**L’épissage du gène CALCA chez l’espèce Mus musculus** <Br><Br>\n",
    "**Variants 1 et 4 : calcitonine** <Br>\n",
    "- 136 aa <Br>\n",
    "- produite dans la glande thyroïdienne <Br>\n",
    "- impliquée dans le métabolisme du phosphore et du calcium <Br><Br>\n",
    "\n",
    "**Variants 2 et 3 : CGRP** <Br>\n",
    "- 128 aa <Br>\n",
    "- produite dans le système nerveux central <Br>\n",
    "- agit comme un vasodilatateur et un médiateur de la douleur"
   ]
  },
  {
   "cell_type": "markdown",
   "id": "f4789c22",
   "metadata": {},
   "source": [
    "## II. La traduction des ARNm du gène CALCA chez l’espèce Mus musculus"
   ]
  },
  {
   "cell_type": "markdown",
   "id": "dd5cf76c",
   "metadata": {},
   "source": [
    "Si on revient à la page de résultat de la requête et on ouvre le descriptif GenBank de la séquence du variant 1 de l’ARNm. Dans la zone nommée FEATURES, à la fin de la partie relative au CDS, [*Cliquer ici*](https://www.ncbi.nlm.nih.gov/nuccore/NM_007587.2) pour y accéder... on trouve la traduction du CDS en protéine : <Br>\n",
    " /translation=\"MGFLKFSPFLVVSILLLYQACSLQAVPLRSILESSPGMATLSEE\n",
    " EVRLLAALVQDYMQMKARELEQEEEQEAEGSSLDSPRSKRCGNLSTCMLGTYTQDLNK\n",
    " FHTFPQTSIGVEAPGKKRDVAKDLETNHQSHFGN\" <Br><Br>\n",
    "On va écrire des fonctions permettant de réaliser cette phase de traduction."
   ]
  },
  {
   "cell_type": "markdown",
   "id": "52c2bdbe",
   "metadata": {},
   "source": [
    "### Etape 1 : lecture du code génétique"
   ]
  },
  {
   "cell_type": "code",
   "execution_count": 83,
   "id": "d4fb8cd3",
   "metadata": {},
   "outputs": [],
   "source": [
    "def lecture_code_genetique(fichier):\n",
    "    \"\"\"\n",
    "    lire le fichier du code génétique (code_genetique.txt)\n",
    "    \"\"\"\n",
    "    f=open(fichier,\"r\")\n",
    "    lignes=f.readlines()\n",
    "    f.close()\n",
    "    \n",
    "    #dictionnaire pour stocker des fragments de séquences ainsi que leurs traductions en protéine\n",
    "    mydict={}\n",
    "    for ligne in lignes:\n",
    "        mydict[ligne[:3]]=ligne[4]\n",
    "    \n",
    "    return mydict"
   ]
  },
  {
   "cell_type": "markdown",
   "id": "2123f8c2",
   "metadata": {},
   "source": [
    "### Etape 2 : traduction"
   ]
  },
  {
   "cell_type": "markdown",
   "id": "515e94bd",
   "metadata": {},
   "source": [
    "Remarques importantes : <Br>\n",
    "• Si un codon contient une ou plusieurs indéterminations, on le traduit par le caractère 'Z'. <Br>\n",
    "• Si le gène est incomplet et se termine par un codon incomplet, on ne tient pas compte de ce codon."
   ]
  },
  {
   "cell_type": "code",
   "execution_count": 92,
   "id": "fe7b955d",
   "metadata": {},
   "outputs": [],
   "source": [
    "def traduction(sequence, code_genetique):\n",
    "    \"\"\"\n",
    "    réaliser la traduction d'une séquence nucléotidique en protéine\n",
    "    \"\"\"\n",
    "    traduction=\"\"\n",
    "    #sequence=sequence[:len(sequence)-len(sequence)%3]\n",
    "    for i in range(0,len(sequence)-3,3):\n",
    "        codon=sequence[i:i+3]\n",
    "        traduction+=code_genetique.get(codon, \"Z\") #si la clé n'est pas présente,elle renvoie \"Z\"\n",
    "    return traduction"
   ]
  },
  {
   "cell_type": "code",
   "execution_count": 93,
   "id": "4356a48e",
   "metadata": {},
   "outputs": [],
   "source": [
    "code_genetique=lecture_code_genetique(\"code_genetique.txt\")"
   ]
  },
  {
   "cell_type": "markdown",
   "id": "a7deed3b",
   "metadata": {},
   "source": [
    "### Etape 3 : application aux ARNm du gène CALCA"
   ]
  },
  {
   "cell_type": "markdown",
   "id": "2736dd56",
   "metadata": {},
   "source": [
    "Maintenant on va récupérer les séquences des CDS (région codante) des 4 ARNm du gène CALCA à partir des positions fournies par le descriptif de chacun... <Br>\n",
    "variant 1 : 156..566 <Br>\n",
    "variant 2 : 156..542 <Br>\n",
    "variant 3 : 180..566 <Br>\n",
    "variant 4 : 180..590 <Br>"
   ]
  },
  {
   "cell_type": "code",
   "execution_count": 94,
   "id": "ee0a4c6c",
   "metadata": {},
   "outputs": [],
   "source": [
    "seq_cds_1=extraction_un_fragment(variant1,156,566)\n",
    "seq_cds_2=extraction_un_fragment(variant2,156,542)\n",
    "seq_cds_3=extraction_un_fragment(variant3,180,566)\n",
    "seq_cds_4=extraction_un_fragment(variant4,180,590)"
   ]
  },
  {
   "cell_type": "code",
   "execution_count": 95,
   "id": "de4906b9",
   "metadata": {},
   "outputs": [
    {
     "name": "stdout",
     "output_type": "stream",
     "text": [
      "Les séquences protéiques issues des 4 ARNm :\n",
      "\n",
      "Séquences protéiques 1 : MGFLKFSPFLVVSILLLYQACSLQAVPLRSILESSPGMATLSEEEVRLLAALVQDYMQMKARELEQEEEQEAEGSSLDSPRSKRCGNLSTCMLGTYTQDLNKFHTFPQTSIGVEAPGKKRDVAKDLETNHQSHFGN\n",
      "\n",
      "Séquences protéiques 2 : MGFLKFSPFLVVSILLLYQACSLQAVPLRSILESSPGMATLSEEEVRLLAALVQDYMQMKARELEQEEEQEAEGSSVTAQKRSCNTATCVTHRLAGLLSRSGGVVKDNFVPTNVGSEAFGRRRRDLQA\n",
      "\n",
      "Séquences protéiques 3 : MGFLKFSPFLVVSILLLYQACSLQAVPLRSILESSPGMATLSEEEVRLLAALVQDYMQMKARELEQEEEQEAEGSSVTAQKRSCNTATCVTHRLAGLLSRSGGVVKDNFVPTNVGSEAFGRRRRDLQA\n",
      "\n",
      "Séquences protéiques 4 : MGFLKFSPFLVVSILLLYQACSLQAVPLRSILESSPGMATLSEEEVRLLAALVQDYMQMKARELEQEEEQEAEGSSLDSPRSKRCGNLSTCMLGTYTQDLNKFHTFPQTSIGVEAPGKKRDVAKDLETNHQSHFGN\n"
     ]
    }
   ],
   "source": [
    "#Déterminer et afficher les séquences protéiques issues des 4 ARNm\n",
    "print(\"Les séquences protéiques issues des 4 ARNm :\")\n",
    "print()\n",
    "proteine_1=traduction(seq_cds_1, code_genetique)\n",
    "print(f\"Séquences protéiques 1 : {proteine_1}\")\n",
    "print()\n",
    "proteine_2=traduction(seq_cds_2, code_genetique)\n",
    "print(f\"Séquences protéiques 2 : {proteine_2}\")\n",
    "print()\n",
    "proteine_3=traduction(seq_cds_3, code_genetique)\n",
    "print(f\"Séquences protéiques 3 : {proteine_3}\")\n",
    "print()\n",
    "proteine_4=traduction(seq_cds_4, code_genetique)\n",
    "print(f\"Séquences protéiques 4 : {proteine_4}\")"
   ]
  },
  {
   "cell_type": "markdown",
   "id": "e249ed88",
   "metadata": {},
   "source": [
    "**On remarque que le résultat est conforme à nos attentes (vérifier sur les descriptifs de chaque variant...)**"
   ]
  }
 ],
 "metadata": {
  "kernelspec": {
   "display_name": "Python 3 (ipykernel)",
   "language": "python",
   "name": "python3"
  },
  "language_info": {
   "codemirror_mode": {
    "name": "ipython",
    "version": 3
   },
   "file_extension": ".py",
   "mimetype": "text/x-python",
   "name": "python",
   "nbconvert_exporter": "python",
   "pygments_lexer": "ipython3",
   "version": "3.9.13"
  }
 },
 "nbformat": 4,
 "nbformat_minor": 5
}
