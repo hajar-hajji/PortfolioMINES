{
 "cells": [
  {
   "cell_type": "markdown",
   "id": "2cc103b3",
   "metadata": {},
   "source": [
    "**Bioinformatique : Rendu_3** <Br>\n",
    "Hajar Hajji"
   ]
  },
  {
   "cell_type": "markdown",
   "id": "806a75c1",
   "metadata": {},
   "source": [
    "## Dot-plot"
   ]
  },
  {
   "cell_type": "markdown",
   "id": "6c1c2c14",
   "metadata": {},
   "source": [
    "### Dot-plot de base"
   ]
  },
  {
   "cell_type": "code",
   "execution_count": 1,
   "id": "b05feaa9",
   "metadata": {},
   "outputs": [],
   "source": [
    "l=\"AGCTAGGCTGAA\" #lignes\n",
    "c=\"AGCGGCATGAT\"  #colonnes"
   ]
  },
  {
   "cell_type": "markdown",
   "id": "2c2b57c6",
   "metadata": {},
   "source": [
    "Le programme utilise la méthode de construction de dot-plot \"de base\" en alignant les deux séquences côte à côte et en marquant un point pour chaque paire de caractères correspondants :"
   ]
  },
  {
   "cell_type": "code",
   "execution_count": 3,
   "id": "ce5ac3a5",
   "metadata": {},
   "outputs": [
    {
     "name": "stdout",
     "output_type": "stream",
     "text": [
      "Avant remplissage :\n",
      "- A G C G G C A T G A T\n",
      "A           \n",
      "G           \n",
      "C           \n",
      "T           \n",
      "A           \n",
      "G           \n",
      "G           \n",
      "C           \n",
      "T           \n",
      "G           \n",
      "A           \n",
      "A           \n",
      "\n",
      "Après remplissage :\n",
      "\n",
      " -  A  G  C  G  G  C  A  T  G  A  T\n",
      " A  *                 *        *   \n",
      " G     *     *  *           *      \n",
      " C        *        *               \n",
      " T                       *        *\n",
      " A  *                 *        *   \n",
      " G     *     *  *           *      \n",
      " G     *     *  *           *      \n",
      " C        *        *               \n",
      " T                       *        *\n",
      " G     *     *  *           *      \n",
      " A  *                 *        *   \n",
      " A  *                 *        *   \n"
     ]
    }
   ],
   "source": [
    "M=[[\"\" for j in range(len(c))] for i in range(len(l))]\n",
    "M.insert(0,[ch for ch in c])\n",
    "M[0].insert(0,\"-\")\n",
    "for ligne,s in zip(M[1:],l):\n",
    "    ligne.insert(0,s)\n",
    "    \n",
    "print(\"Avant remplissage :\")\n",
    "for ligne in M:\n",
    "    print(\" \".join(ligne))\n",
    "print()\n",
    "print(\"Après remplissage :\")\n",
    "print()\n",
    "for i in range(1,len(l)+1):\n",
    "    for j in range(1,len(c)+1):\n",
    "        if M[i][0]==M[0][j]:\n",
    "            M[i][j]=\"*\"\n",
    "for ligne in M:\n",
    "    print(\" \".join(\"%2s\" % element for element in ligne))"
   ]
  },
  {
   "cell_type": "code",
   "execution_count": 4,
   "id": "b4c2710d",
   "metadata": {},
   "outputs": [],
   "source": [
    "def scores_mots(seq1,seq2,taille_fenetre,pas):\n",
    "    \n",
    "    \"\"\"\n",
    "    calculera les scores issus de la comparaison de toutes les paires de mots.\n",
    "    Le score correspond au nombre de positions identiques dans les deux mots.\n",
    "    PS : Les mots à comparer seront déterminés par la taille de la fenêtre et le pas.\n",
    "    \"\"\"\n",
    "    \n",
    "    scores=[]\n",
    "    for i in range(0,len(seq1)-taille_fenetre+1,pas):\n",
    "        scores_tempo=[]\n",
    "        fenetre_1=seq1[i:i+taille_fenetre]\n",
    "        for j in range(0,len(seq2)-taille_fenetre+1,pas):\n",
    "            fenetre_2=seq2[j:j+taille_fenetre]\n",
    "            score=sum(1 for ll,mm in zip(fenetre_1,fenetre_2) if ll==mm)\n",
    "            scores_tempo.append(score)\n",
    "        scores.append(scores_tempo)\n",
    "    return scores"
   ]
  },
  {
   "cell_type": "code",
   "execution_count": 5,
   "id": "9781b6d3",
   "metadata": {},
   "outputs": [
    {
     "data": {
      "text/plain": [
       "[[3, 1, 1, 1], [1, 1, 1, 1], [2, 3, 0, 2], [1, 0, 2, 0], [1, 1, 1, 1]]"
      ]
     },
     "execution_count": 5,
     "metadata": {},
     "output_type": "execute_result"
    }
   ],
   "source": [
    "taille_fenetre=4\n",
    "pas=2\n",
    "scores_mots(l, c, taille_fenetre, pas)"
   ]
  },
  {
   "cell_type": "code",
   "execution_count": 9,
   "id": "453357d9",
   "metadata": {},
   "outputs": [],
   "source": [
    "def dot_plot(seq1,seq2,taille_fenetre,pas,seuil):\n",
    "    \n",
    "    \"\"\"\n",
    "    calcul du dot-plot de deux séquences à partir des scores (scores)\n",
    "    et du seuil d'identité\n",
    "    renvoi d'une chaine de caractères contenant le dot-plot, y compris les \n",
    "    séquences\n",
    "    \"\"\"\n",
    "    \n",
    "    #Matrice vierge\n",
    "    M=[[\"\" for j in range(len(c))] for i in range(len(l))]\n",
    "    M.insert(0,[ch for ch in c])\n",
    "    M[0].insert(0,\"-\")\n",
    "    for ligne,s in zip(M[1:],l):\n",
    "        ligne.insert(0,s)\n",
    "           \n",
    "    for i in range(0,len(seq1)-taille_fenetre+1,pas):\n",
    "        fenetre_1=seq1[i:i+taille_fenetre]\n",
    "        for j in range(0,len(seq2)-taille_fenetre+1,pas):\n",
    "            fenetre_2=seq2[j:j+taille_fenetre]\n",
    "            score=sum(1 for ll,mm in zip(fenetre_1,fenetre_2) if ll==mm)\n",
    "            \n",
    "            #ajouter une étoile si le score est supérieur ou égal au seuil\n",
    "            if score >= seuil:\n",
    "                M[i+1][j+1]=\"*\"\n",
    "    \n",
    "    #affichage           \n",
    "    for ligne in M:\n",
    "        print(\" \".join(\"%2s\" % element for element in ligne))"
   ]
  },
  {
   "cell_type": "code",
   "execution_count": 10,
   "id": "73519e11",
   "metadata": {},
   "outputs": [
    {
     "name": "stdout",
     "output_type": "stream",
     "text": [
      " -  A  G  C  G  G  C  A  T  G  A  T\n",
      " A  *                              \n",
      " G                                 \n",
      " C  *                              \n",
      " T                                 \n",
      " A  *                              \n",
      " G                                 \n",
      " G  *                              \n",
      " C                                 \n",
      " T  *                              \n",
      " G                                 \n",
      " A                                 \n",
      " A                                 \n",
      "None\n"
     ]
    }
   ],
   "source": [
    "taille_fenetre=4\n",
    "pas=2\n",
    "seuil=1\n",
    "print(dot_plot(l, c, taille_fenetre,pas,seuil))"
   ]
  },
  {
   "cell_type": "code",
   "execution_count": 8,
   "id": "d31b0202",
   "metadata": {},
   "outputs": [],
   "source": [
    "from tkinter import *\n",
    "from collections import defaultdict\n",
    "\n",
    "# ---------------         fonction dessin         --------------- #\n",
    "\n",
    "def dessin(seuil_str):\n",
    "    '''\n",
    "    dessin du dot-plot dans le widget de type Text d'après la valeur du widget\n",
    "    de type Scale (valeur contenue dans la chaine de caractère seuil_str)\n",
    "    '''\n",
    "    \n",
    "    global text_dot_plot, scores, sequence_1, sequence_2, taille_fenetre, pas\n",
    "    \n",
    "    # expression du seuil sous forme d'un entier\n",
    "    seuil = int(seuil_str)\n",
    "    \n",
    "    # calcul du dot plot\n",
    "    dot_plot_str = ''\n",
    "    for i in range(len(sequence_1)):\n",
    "        dot_plot_str += sequence_1[i] + ' '\n",
    "        for j in range(len(sequence_2)):\n",
    "            if scores[(i,j)] >= seuil:\n",
    "                dot_plot_str += '* '\n",
    "            else:\n",
    "                dot_plot_str += '{} '\n",
    "        dot_plot_str += '\\n'\n",
    "        \n",
    "    # effacement du texte du widget de type Text\n",
    "    text_dot_plot.delete(1.0, END)\n",
    "    \n",
    "    # affichage du nouveau texte du widget de type Text\n",
    "    text_dot_plot.insert(END, dot_plot_str)\n",
    "    \n",
    "    return\n",
    "\n",
    "# ---------------         programme principal         --------------- #\n",
    "\n",
    "# --- données --- #\n",
    "\n",
    "# séquences : exemple du TD\n",
    "sequence_1 = 'AGTTGCACTGTAAGTACAT'\n",
    "sequence_2 = 'AGCTACGGCAAGCCTAGAC'\n",
    "\n",
    "# paramètres du dot-plot\n",
    "taille_fenetre = 4\n",
    "seuil_identite = 3\n",
    "pas = 2\n",
    "\n",
    "# --- calcul des scores --- #\n",
    "\n",
    "scores = defaultdict(int)\n",
    "for i in range(len(sequence_1) - taille_fenetre + 1):\n",
    "    for j in range(len(sequence_2) - taille_fenetre + 1):\n",
    "        subseq_1 = sequence_1[i:i+taille_fenetre]\n",
    "        subseq_2 = sequence_2[j:j+taille_fenetre]\n",
    "        score = sum([1 for k in range(taille_fenetre) if subseq_1[k] == subseq_2[k]])\n",
    "        scores[(i,j)] = score\n",
    "\n",
    "# --- interface graphique --- #\n",
    "\n",
    "# fenêtre principale\n",
    "fen = Tk()\n",
    "fen.title('dot plot')\n",
    "\n",
    "# widget de type Text\n",
    "text_dot_plot = Text(fen, \n",
    "                     width=len(sequence_2)*2 + 2,\n",
    "                     height=len(sequence_1) + 1,\n",
    "                     bg='white')\n",
    "text_dot_plot.pack(side=TOP, padx=5, pady=5)\n",
    "\n",
    "# initialisation du widget de type Text avec le dot-plot\n",
    "dot_plot_str = ''\n",
    "for i in range(len(sequence_1)):\n",
    "    dot_plot_str += sequence_1[i] + ' '\n",
    "    for j in range(len(sequence_2)):\n",
    "        dot_plot_str += '{} '\n",
    "    dot_plot_str += '\\n'\n",
    "text_dot_plot.insert(END, dot_plot_str)\n",
    "\n",
    "# widget de type Scale\n",
    "scale_seuil = Scale(fen, from_=0, to=taille_fenetre, orient='horizontal', \\\n",
    "                    label='seuil d\\'identité', \\\n",
    "                    command=dessin)\n",
    "scale_seuil.pack(side=LEFT, padx=5, pady=5)\n",
    "scale_seuil.set(seuil_identite)\n",
    "\n",
    "# bouton 'Quitter'\n",
    "bouton_quitter = Button(fen, text='Quitter', command=fen.destroy)\n",
    "bouton_quitter.pack(side=RIGHT, padx=5, pady=5)\n",
    "\n",
    "# Lancement du réceptionnaire d'événements\n",
    "fen.mainloop()"
   ]
  }
 ],
 "metadata": {
  "kernelspec": {
   "display_name": "Python 3 (ipykernel)",
   "language": "python",
   "name": "python3"
  },
  "language_info": {
   "codemirror_mode": {
    "name": "ipython",
    "version": 3
   },
   "file_extension": ".py",
   "mimetype": "text/x-python",
   "name": "python",
   "nbconvert_exporter": "python",
   "pygments_lexer": "ipython3",
   "version": "3.9.13"
  }
 },
 "nbformat": 4,
 "nbformat_minor": 5
}
